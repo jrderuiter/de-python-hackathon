{
 "cells": [
  {
   "cell_type": "markdown",
   "metadata": {},
   "source": [
    "# Model training\n",
    "\n",
    "Notebook for training our model. Idea is that the model is trained on the dataset and subsequently serialized to a pkl file. This pkl file can then be loaded at later timepoints to evaluate the model or to perform predictions."
   ]
  },
  {
   "cell_type": "code",
   "execution_count": null,
   "metadata": {},
   "outputs": [],
   "source": [
    "# Add titanic library to path.\n",
    "from pathlib import Path\n",
    "import sys\n",
    "\n",
    "lib_path = str(Path('').absolute().parent)\n",
    "if lib_path not in sys.path:\n",
    "    sys.path.append(lib_path)"
   ]
  },
  {
   "cell_type": "code",
   "execution_count": null,
   "metadata": {},
   "outputs": [],
   "source": [
    "from pathlib import Path\n",
    "\n",
    "import pandas as pd\n",
    "\n",
    "from titanic.model import TitanicModel\n",
    "\n",
    "\n",
    "# Define input/output paths.\n",
    "input_path = Path(\"../data/train.csv\")\n",
    "model_path = Path(\"../outputs/model.pkl\")\n",
    "\n",
    "# Define model parameters.\n",
    "n_trees = 200\n",
    "\n",
    "# Fetch our dataset.\n",
    "dataset = pd.read_csv(input_path)\n",
    "\n",
    "X = dataset.drop(\"Survived\", axis=1)\n",
    "y = dataset[\"Survived\"]\n",
    "\n",
    "# Train our model.\n",
    "model = TitanicModel(n_trees=n_trees)\n",
    "model.fit(X, y=y)\n",
    "\n",
    "# Save our model output.\n",
    "model_path.parent.mkdir(parents=True, exist_ok=True)\n",
    "model.save(model_path)"
   ]
  },
  {
   "cell_type": "code",
   "execution_count": null,
   "metadata": {},
   "outputs": [],
   "source": []
  }
 ],
 "metadata": {
  "kernelspec": {
   "display_name": "Python 3",
   "language": "python",
   "name": "python3"
  },
  "language_info": {
   "codemirror_mode": {
    "name": "ipython",
    "version": 3
   },
   "file_extension": ".py",
   "mimetype": "text/x-python",
   "name": "python",
   "nbconvert_exporter": "python",
   "pygments_lexer": "ipython3",
   "version": "3.8.1"
  }
 },
 "nbformat": 4,
 "nbformat_minor": 4
}
