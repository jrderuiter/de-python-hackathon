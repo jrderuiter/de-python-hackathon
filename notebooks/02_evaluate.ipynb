{
 "cells": [
  {
   "cell_type": "markdown",
   "metadata": {},
   "source": [
    "# Model evaluation\n",
    "\n",
    "Notebook with code for evaluating the model. Idea is to evaluate the trained model on a validation dataset using the *evaluate* method, which produces some statistics that state how well the model performs on the given validation dataset."
   ]
  },
  {
   "cell_type": "code",
   "execution_count": null,
   "metadata": {},
   "outputs": [],
   "source": [
    "# Add titanic library to path.\n",
    "from pathlib import Path\n",
    "import sys\n",
    "\n",
    "lib_path = str(Path('').absolute().parent)\n",
    "if lib_path not in sys.path:\n",
    "    sys.path.append(lib_path)"
   ]
  },
  {
   "cell_type": "code",
   "execution_count": null,
   "metadata": {},
   "outputs": [],
   "source": [
    "from pathlib import Path\n",
    "\n",
    "import pandas as pd\n",
    "\n",
    "from titanic.model import Model\n",
    "\n",
    "\n",
    "# Define input/model paths.\n",
    "input_path = Path(\"../data/validation.csv\")\n",
    "model_path = Path(\"../outputs/model.pkl\")\n",
    "\n",
    "# Load dataset.\n",
    "dataset = pd.read_csv(input_path)\n",
    "\n",
    "X = dataset.drop(\"Survived\", axis=1)\n",
    "y = dataset[\"Survived\"]\n",
    "\n",
    "# Calculate model metrics.\n",
    "model = Model.load(model_path)\n",
    "metrics = model.evaluate(X, y=y)\n",
    "\n",
    "\n",
    "for metric_name, metric_value in metrics.items():\n",
    "    print(metric_name, metric_value, sep=\": \")"
   ]
  },
  {
   "cell_type": "code",
   "execution_count": null,
   "metadata": {},
   "outputs": [],
   "source": []
  }
 ],
 "metadata": {
  "kernelspec": {
   "display_name": "Python 3",
   "language": "python",
   "name": "python3"
  },
  "language_info": {
   "codemirror_mode": {
    "name": "ipython",
    "version": 3
   },
   "file_extension": ".py",
   "mimetype": "text/x-python",
   "name": "python",
   "nbconvert_exporter": "python",
   "pygments_lexer": "ipython3",
   "version": "3.8.1"
  }
 },
 "nbformat": 4,
 "nbformat_minor": 4
}
